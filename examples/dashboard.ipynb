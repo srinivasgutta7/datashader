{
 "cells": [
  {
   "cell_type": "markdown",
   "metadata": {},
   "source": [
    "## Datashader dashboard\n",
    "\n",
    "This notebook contains the code for an interactive dashboard for making [Datashader](http://datashader.org) plots from any dataset. Apart from Datashader itself, the code relies on other Python packages from the [PyViz](http://pyviz.org) project that are each designed to make it simple to:\n",
    "\n",
    "- lay out plots and widgets into an app or dashboard, in a notebook or for serving separately ([Panel](http://panel.pyviz.org))\n",
    "- build interactive web-based plots without writing JavaScript ([Bokeh](http://bokeh.pydata.org))\n",
    "- build interactive Bokeh-based plots backed by Datashader, from concise declarations ([HoloViews](http://holoviews.org))\n",
    "- express dependencies between parameters and code to build reactive interfaces declaratively ([Param](http://param.pyviz.org))\n",
    "- describe the fields and plotting information needed to plot a dataset, in a text file ([Intake](http://intake.readthedocs.io))"
   ]
  },
  {
   "cell_type": "code",
   "execution_count": null,
   "metadata": {},
   "outputs": [],
   "source": [
    "import os, param, colorcet, holoviews as hv, panel as pn\n",
    "import intake, geoviews.tile_sources as gts\n",
    "from holoviews.operation.datashader import rasterize, shade, dynspread\n",
    "hv.extension('bokeh', logo=False)"
   ]
  },
  {
   "cell_type": "markdown",
   "metadata": {},
   "source": [
    "You can run the dashboard here in the notebook by editing the `data_source` below to specify some dataset defined in `dashboard.yml`, or else you can launch a separate server process in a new browser tab with a command like:\n",
    "\n",
    "```\n",
    "DS_DATASET=nyc_taxi panel serve --show dashboard.ipynb\n",
    "DS_DATASET=census   panel serve --show dashboard.ipynb\n",
    "DS_DATASET=opensky  panel serve --show dashboard.ipynb\n",
    "DS_DATASET=osm      panel serve --show dashboard.ipynb\n",
    "```\n",
    "\n",
    "To launch multiple dashboards at once, you'll need to add `-p 5001` (etc.) to select a unique port number for the web page to use for communicating with the Bokeh server.  Otherwise, be sure to kill the server process before launching another instance.\n",
    "\n",
    "For most of these datasets, if you have less than 16GB of RAM on your machine, you should remove the `.persist()` call below, to tell [Dask](http://dask.pydata.org) to work out of core instead of loading all data into memory.  However, doing so will make interactive use substantially slower than if sufficient memory were available."
   ]
  },
  {
   "cell_type": "code",
   "execution_count": null,
   "metadata": {},
   "outputs": [],
   "source": [
    "data_source = os.getenv(\"DS_DATASET\", \"nyc_taxi\")\n",
    "cat = intake.open_catalog('dashboard.yml')\n",
    "source = getattr(cat, data_source)\n",
    "source.to_dask().persist();"
   ]
  },
  {
   "cell_type": "markdown",
   "metadata": {},
   "source": [
    "The Intake `source` object lets us treat data in many different formats the same in the rest of the code here. We can now build a class that captures some parameters that the user can vary along with how those parameters relate to the code needed to update the displayed plot of that data source:"
   ]
  },
  {
   "cell_type": "code",
   "execution_count": null,
   "metadata": {},
   "outputs": [],
   "source": [
    "import numpy as np"
   ]
  },
  {
   "cell_type": "code",
   "execution_count": null,
   "metadata": {},
   "outputs": [],
   "source": [
    "gopts = hv.opts.WMTS(width=800, height=500, xaxis=None, yaxis=None, bgcolor='black', show_grid=False)\n",
    "cmaps = {n: colorcet.palette[n] for n in ['fire', 'bgy', 'bgyw', 'bmy', 'gray', 'kbc']}\n",
    "norms = {'Histogram_Equalization': 'eq_hist', 'Linear': 'linear', 'Log': 'log', 'Cube root': 'cbrt'}\n",
    "maps  = ['CartoMidnight', 'StamenWatercolor', 'StamenTonerBackground', 'EsriImagery', 'EsriUSATopo', 'EsriTerrain']\n",
    "bases = {name: ts.relabel(name) for name, ts in gts.tile_sources.items() if name in maps}\n",
    "\n",
    "class Explorer(param.Parameterized):\n",
    "    opacity = param.Magnitude(default=0.75, doc=\"Alpha value for the data opacity\")\n",
    "    basemap_opacity = param.Magnitude(default=0.75, doc=\"Alpha value for the map opacity\")\n",
    "    cmap = param.ObjectSelector(cmaps['fire'], objects=cmaps)\n",
    "    basemap = param.ObjectSelector(bases['EsriImagery'], objects=bases)\n",
    "    show_labels = param.Boolean(default=True)\n",
    "    normalization = param.ObjectSelector(default='eq_hist', objects=norms)\n",
    "    spread_size = param.Integer(0, bounds=(0, 10))\n",
    "    plot = param.ObjectSelector(default=source.plots[0], objects=source.plots)\n",
    "    \n",
    "    @param.depends('plot')\n",
    "    def points(self):\n",
    "        plot_method = getattr(source.plot, self.plot)\n",
    "        points = plot_method() # could add extra hvplot kwargs here\n",
    "        return points\n",
    "\n",
    "    @param.depends('basemap_opacity','basemap')\n",
    "    def tiles(self):\n",
    "        return self.basemap.opts(gopts).opts(alpha=self.basemap_opacity)\n",
    "\n",
    "    @param.depends('show_labels')\n",
    "    def labels(self):\n",
    "        return gts.StamenLabels.options(level='annotation', alpha=1 if self.show_labels else 0)\n",
    "    \n",
    "    @param.depends('opacity')\n",
    "    def apply_opacity(self, shaded):\n",
    "        return shaded.opts(alpha=self.opacity, show_legend=False)\n",
    "\n",
    "    def view(self,**kwargs):\n",
    "        points = hv.DynamicMap(self.points)\n",
    "        agg    = rasterize(points, x_sampling=1, y_sampling=1, width=600, height=400)\n",
    "        shade_stream = hv.streams.Params(self, ['cmap', 'normalization'])\n",
    "        spread_stream = hv.streams.Params(self, ['spread_size'], rename={'spread_size': 'max_px'})\n",
    "        tiles  = hv.DynamicMap(self.tiles)\n",
    "        labels = hv.DynamicMap(self.labels)\n",
    "        shaded = dynspread(shade(agg, streams=[shade_stream]), streams=[spread_stream])\n",
    "        shaded = hv.util.Dynamic(shaded, operation=self.apply_opacity)\n",
    "        return tiles * shaded * labels\n",
    "\n",
    "explorer = Explorer(name=\"\")\n",
    "pn.Row(pn.Column(\"# Datashader\", pn.Param(explorer.param, expand_button=False)), explorer.view()).servable()"
   ]
  },
  {
   "cell_type": "markdown",
   "metadata": {},
   "source": [
    "If you are viewing this notebook with a live Python server process running, adjusting one of the widgets above should update the plot, re-running only the code needed to update that particular item without re-running datashader if that's not needed. It should work the same when launched as a separate server process, but without the extra text and code visible as in this notebook. Here the `.servable()` method call indicates what should be served when run separately, and you can just copy the code out of this notebook into a .py file that will work the same as this .ipynb file."
   ]
  }
 ],
 "metadata": {
  "kernelspec": {
   "display_name": "Python 3",
   "language": "python",
   "name": "python3"
  },
  "language_info": {
   "codemirror_mode": {
    "name": "ipython",
    "version": 3
   },
   "file_extension": ".py",
   "mimetype": "text/x-python",
   "name": "python",
   "nbconvert_exporter": "python",
   "pygments_lexer": "ipython3",
   "version": "3.6.6"
  }
 },
 "nbformat": 4,
 "nbformat_minor": 2
}
